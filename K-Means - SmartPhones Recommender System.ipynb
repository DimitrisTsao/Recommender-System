{
 "cells": [
  {
   "cell_type": "code",
   "execution_count": 247,
   "id": "4f640f89-803f-4052-8a4d-9b3fbf0bdad0",
   "metadata": {},
   "outputs": [],
   "source": [
    "#All the header files required for the code\n",
    "import numpy as np\n",
    "import pandas as pd\n",
    "from factor_analyzer import FactorAnalyzer\n",
    "import matplotlib.pyplot as plt\n",
    "from sklearn.cluster import KMeans\n",
    "from sklearn import metrics\n",
    "import random\n"
   ]
  },
  {
   "cell_type": "code",
   "execution_count": 248,
   "id": "e6c291a0-d607-4671-a36e-ba32356b84a0",
   "metadata": {},
   "outputs": [],
   "source": [
    "#Import csv files\n",
    "data1 = pd.read_csv('ratings.csv')\n",
    "data2 = pd.read_csv('products.csv')"
   ]
  },
  {
   "cell_type": "code",
   "execution_count": 249,
   "id": "42f9a3ef-7c42-438e-934d-0000721f7e64",
   "metadata": {},
   "outputs": [
    {
     "name": "stdout",
     "output_type": "stream",
     "text": [
      "     userId  productId  rating\n",
      "0         1          7       3\n",
      "1         2         30       3\n",
      "2         3         51       5\n",
      "3         4         28       2\n",
      "4         5         44       5\n",
      "..      ...        ...     ...\n",
      "995     996         27       4\n",
      "996     997         34       1\n",
      "997     998         50       2\n",
      "998     999         58       4\n",
      "999    1000         11       1\n",
      "\n",
      "[1000 rows x 3 columns]\n"
     ]
    }
   ],
   "source": [
    "#Delete unnecessary columns\n",
    "\n",
    "#DATA1 = RATINGS\n",
    "#DATA2 = PRODUCTS\n",
    "\n",
    "data1 = data1.drop(['timestamp'], axis=1)   # function which is used in removing or deleting columns from the csv files\n",
    "print (data1)\n",
    "#data2 = data2.drop(['Unnamed: ','timestamp'],axis = 1)    # thelei sizitisi"
   ]
  },
  {
   "cell_type": "code",
   "execution_count": 250,
   "id": "35b29df6-3bea-435f-97cc-870d88dff01a",
   "metadata": {},
   "outputs": [
    {
     "data": {
      "text/html": [
       "<div>\n",
       "<style scoped>\n",
       "    .dataframe tbody tr th:only-of-type {\n",
       "        vertical-align: middle;\n",
       "    }\n",
       "\n",
       "    .dataframe tbody tr th {\n",
       "        vertical-align: top;\n",
       "    }\n",
       "\n",
       "    .dataframe thead th {\n",
       "        text-align: right;\n",
       "    }\n",
       "</style>\n",
       "<table border=\"1\" class=\"dataframe\">\n",
       "  <thead>\n",
       "    <tr style=\"text-align: right;\">\n",
       "      <th></th>\n",
       "      <th>userId</th>\n",
       "      <th>productId</th>\n",
       "      <th>rating</th>\n",
       "    </tr>\n",
       "  </thead>\n",
       "  <tbody>\n",
       "    <tr>\n",
       "      <th>0</th>\n",
       "      <td>1</td>\n",
       "      <td>7</td>\n",
       "      <td>3</td>\n",
       "    </tr>\n",
       "    <tr>\n",
       "      <th>1</th>\n",
       "      <td>2</td>\n",
       "      <td>30</td>\n",
       "      <td>3</td>\n",
       "    </tr>\n",
       "    <tr>\n",
       "      <th>2</th>\n",
       "      <td>3</td>\n",
       "      <td>51</td>\n",
       "      <td>5</td>\n",
       "    </tr>\n",
       "    <tr>\n",
       "      <th>3</th>\n",
       "      <td>4</td>\n",
       "      <td>28</td>\n",
       "      <td>2</td>\n",
       "    </tr>\n",
       "    <tr>\n",
       "      <th>4</th>\n",
       "      <td>5</td>\n",
       "      <td>44</td>\n",
       "      <td>5</td>\n",
       "    </tr>\n",
       "  </tbody>\n",
       "</table>\n",
       "</div>"
      ],
      "text/plain": [
       "   userId  productId  rating\n",
       "0       1          7       3\n",
       "1       2         30       3\n",
       "2       3         51       5\n",
       "3       4         28       2\n",
       "4       5         44       5"
      ]
     },
     "execution_count": 250,
     "metadata": {},
     "output_type": "execute_result"
    }
   ],
   "source": [
    "data1.head()"
   ]
  },
  {
   "cell_type": "code",
   "execution_count": 251,
   "id": "028ccf20-bfcf-436f-89a8-ddca776c0cda",
   "metadata": {},
   "outputs": [
    {
     "data": {
      "text/html": [
       "<div>\n",
       "<style scoped>\n",
       "    .dataframe tbody tr th:only-of-type {\n",
       "        vertical-align: middle;\n",
       "    }\n",
       "\n",
       "    .dataframe tbody tr th {\n",
       "        vertical-align: top;\n",
       "    }\n",
       "\n",
       "    .dataframe thead th {\n",
       "        text-align: right;\n",
       "    }\n",
       "</style>\n",
       "<table border=\"1\" class=\"dataframe\">\n",
       "  <thead>\n",
       "    <tr style=\"text-align: right;\">\n",
       "      <th></th>\n",
       "      <th>productId</th>\n",
       "      <th>products</th>\n",
       "      <th>category</th>\n",
       "    </tr>\n",
       "  </thead>\n",
       "  <tbody>\n",
       "    <tr>\n",
       "      <th>0</th>\n",
       "      <td>1</td>\n",
       "      <td>Iphone 13 Pro Max</td>\n",
       "      <td>flagship</td>\n",
       "    </tr>\n",
       "    <tr>\n",
       "      <th>1</th>\n",
       "      <td>2</td>\n",
       "      <td>Iphone 13 Pro</td>\n",
       "      <td>high_end</td>\n",
       "    </tr>\n",
       "    <tr>\n",
       "      <th>2</th>\n",
       "      <td>3</td>\n",
       "      <td>Iphone 13</td>\n",
       "      <td>high_end</td>\n",
       "    </tr>\n",
       "    <tr>\n",
       "      <th>3</th>\n",
       "      <td>4</td>\n",
       "      <td>Iphone 13 Mini</td>\n",
       "      <td>high_end</td>\n",
       "    </tr>\n",
       "    <tr>\n",
       "      <th>4</th>\n",
       "      <td>5</td>\n",
       "      <td>Iphone 12 Pro Max</td>\n",
       "      <td>high_end</td>\n",
       "    </tr>\n",
       "  </tbody>\n",
       "</table>\n",
       "</div>"
      ],
      "text/plain": [
       "   productId           products  category\n",
       "0          1  Iphone 13 Pro Max  flagship\n",
       "1          2      Iphone 13 Pro  high_end\n",
       "2          3          Iphone 13  high_end\n",
       "3          4     Iphone 13 Mini  high_end\n",
       "4          5  Iphone 12 Pro Max  high_end"
      ]
     },
     "execution_count": 251,
     "metadata": {},
     "output_type": "execute_result"
    }
   ],
   "source": [
    "data2.head()"
   ]
  },
  {
   "cell_type": "code",
   "execution_count": 252,
   "id": "8f8e6cab-2865-4386-83c0-82171579eb14",
   "metadata": {},
   "outputs": [],
   "source": [
    "#Merging both the dataframes\n",
    "data = pd.merge(data2 , data1 , how='outer', on='productId')"
   ]
  },
  {
   "cell_type": "code",
   "execution_count": 253,
   "id": "e457ea73-b027-4a71-9135-e6e765fc1ec1",
   "metadata": {},
   "outputs": [
    {
     "data": {
      "text/html": [
       "<div>\n",
       "<style scoped>\n",
       "    .dataframe tbody tr th:only-of-type {\n",
       "        vertical-align: middle;\n",
       "    }\n",
       "\n",
       "    .dataframe tbody tr th {\n",
       "        vertical-align: top;\n",
       "    }\n",
       "\n",
       "    .dataframe thead th {\n",
       "        text-align: right;\n",
       "    }\n",
       "</style>\n",
       "<table border=\"1\" class=\"dataframe\">\n",
       "  <thead>\n",
       "    <tr style=\"text-align: right;\">\n",
       "      <th></th>\n",
       "      <th>productId</th>\n",
       "      <th>products</th>\n",
       "      <th>category</th>\n",
       "      <th>userId</th>\n",
       "      <th>rating</th>\n",
       "    </tr>\n",
       "  </thead>\n",
       "  <tbody>\n",
       "    <tr>\n",
       "      <th>0</th>\n",
       "      <td>1</td>\n",
       "      <td>Iphone 13 Pro Max</td>\n",
       "      <td>flagship</td>\n",
       "      <td>57</td>\n",
       "      <td>1</td>\n",
       "    </tr>\n",
       "    <tr>\n",
       "      <th>1</th>\n",
       "      <td>1</td>\n",
       "      <td>Iphone 13 Pro Max</td>\n",
       "      <td>flagship</td>\n",
       "      <td>252</td>\n",
       "      <td>5</td>\n",
       "    </tr>\n",
       "    <tr>\n",
       "      <th>2</th>\n",
       "      <td>1</td>\n",
       "      <td>Iphone 13 Pro Max</td>\n",
       "      <td>flagship</td>\n",
       "      <td>282</td>\n",
       "      <td>5</td>\n",
       "    </tr>\n",
       "    <tr>\n",
       "      <th>3</th>\n",
       "      <td>1</td>\n",
       "      <td>Iphone 13 Pro Max</td>\n",
       "      <td>flagship</td>\n",
       "      <td>300</td>\n",
       "      <td>2</td>\n",
       "    </tr>\n",
       "    <tr>\n",
       "      <th>4</th>\n",
       "      <td>1</td>\n",
       "      <td>Iphone 13 Pro Max</td>\n",
       "      <td>flagship</td>\n",
       "      <td>325</td>\n",
       "      <td>3</td>\n",
       "    </tr>\n",
       "  </tbody>\n",
       "</table>\n",
       "</div>"
      ],
      "text/plain": [
       "   productId           products  category  userId  rating\n",
       "0          1  Iphone 13 Pro Max  flagship      57       1\n",
       "1          1  Iphone 13 Pro Max  flagship     252       5\n",
       "2          1  Iphone 13 Pro Max  flagship     282       5\n",
       "3          1  Iphone 13 Pro Max  flagship     300       2\n",
       "4          1  Iphone 13 Pro Max  flagship     325       3"
      ]
     },
     "execution_count": 253,
     "metadata": {},
     "output_type": "execute_result"
    }
   ],
   "source": [
    "data.head()"
   ]
  },
  {
   "cell_type": "code",
   "execution_count": 254,
   "id": "f889a455-0773-462d-b308-45596e3e6a59",
   "metadata": {},
   "outputs": [
    {
     "data": {
      "text/html": [
       "<div>\n",
       "<style scoped>\n",
       "    .dataframe tbody tr th:only-of-type {\n",
       "        vertical-align: middle;\n",
       "    }\n",
       "\n",
       "    .dataframe tbody tr th {\n",
       "        vertical-align: top;\n",
       "    }\n",
       "\n",
       "    .dataframe thead th {\n",
       "        text-align: right;\n",
       "    }\n",
       "</style>\n",
       "<table border=\"1\" class=\"dataframe\">\n",
       "  <thead>\n",
       "    <tr style=\"text-align: right;\">\n",
       "      <th></th>\n",
       "      <th>productId</th>\n",
       "      <th>products</th>\n",
       "      <th>category</th>\n",
       "      <th>userId</th>\n",
       "      <th>rating</th>\n",
       "      <th>flagship</th>\n",
       "      <th>high_end</th>\n",
       "      <th>mid_range</th>\n",
       "      <th>low_end</th>\n",
       "      <th>mid_range</th>\n",
       "    </tr>\n",
       "  </thead>\n",
       "  <tbody>\n",
       "    <tr>\n",
       "      <th>0</th>\n",
       "      <td>1</td>\n",
       "      <td>Iphone 13 Pro Max</td>\n",
       "      <td>flagship</td>\n",
       "      <td>57</td>\n",
       "      <td>1</td>\n",
       "      <td>0</td>\n",
       "      <td>0</td>\n",
       "      <td>0</td>\n",
       "      <td>0</td>\n",
       "      <td>0</td>\n",
       "    </tr>\n",
       "    <tr>\n",
       "      <th>1</th>\n",
       "      <td>1</td>\n",
       "      <td>Iphone 13 Pro Max</td>\n",
       "      <td>flagship</td>\n",
       "      <td>252</td>\n",
       "      <td>5</td>\n",
       "      <td>0</td>\n",
       "      <td>0</td>\n",
       "      <td>0</td>\n",
       "      <td>0</td>\n",
       "      <td>0</td>\n",
       "    </tr>\n",
       "    <tr>\n",
       "      <th>2</th>\n",
       "      <td>1</td>\n",
       "      <td>Iphone 13 Pro Max</td>\n",
       "      <td>flagship</td>\n",
       "      <td>282</td>\n",
       "      <td>5</td>\n",
       "      <td>0</td>\n",
       "      <td>0</td>\n",
       "      <td>0</td>\n",
       "      <td>0</td>\n",
       "      <td>0</td>\n",
       "    </tr>\n",
       "    <tr>\n",
       "      <th>3</th>\n",
       "      <td>1</td>\n",
       "      <td>Iphone 13 Pro Max</td>\n",
       "      <td>flagship</td>\n",
       "      <td>300</td>\n",
       "      <td>2</td>\n",
       "      <td>0</td>\n",
       "      <td>0</td>\n",
       "      <td>0</td>\n",
       "      <td>0</td>\n",
       "      <td>0</td>\n",
       "    </tr>\n",
       "    <tr>\n",
       "      <th>4</th>\n",
       "      <td>1</td>\n",
       "      <td>Iphone 13 Pro Max</td>\n",
       "      <td>flagship</td>\n",
       "      <td>325</td>\n",
       "      <td>3</td>\n",
       "      <td>0</td>\n",
       "      <td>0</td>\n",
       "      <td>0</td>\n",
       "      <td>0</td>\n",
       "      <td>0</td>\n",
       "    </tr>\n",
       "    <tr>\n",
       "      <th>5</th>\n",
       "      <td>1</td>\n",
       "      <td>Iphone 13 Pro Max</td>\n",
       "      <td>flagship</td>\n",
       "      <td>409</td>\n",
       "      <td>4</td>\n",
       "      <td>0</td>\n",
       "      <td>0</td>\n",
       "      <td>0</td>\n",
       "      <td>0</td>\n",
       "      <td>0</td>\n",
       "    </tr>\n",
       "    <tr>\n",
       "      <th>6</th>\n",
       "      <td>1</td>\n",
       "      <td>Iphone 13 Pro Max</td>\n",
       "      <td>flagship</td>\n",
       "      <td>414</td>\n",
       "      <td>4</td>\n",
       "      <td>0</td>\n",
       "      <td>0</td>\n",
       "      <td>0</td>\n",
       "      <td>0</td>\n",
       "      <td>0</td>\n",
       "    </tr>\n",
       "    <tr>\n",
       "      <th>7</th>\n",
       "      <td>1</td>\n",
       "      <td>Iphone 13 Pro Max</td>\n",
       "      <td>flagship</td>\n",
       "      <td>455</td>\n",
       "      <td>4</td>\n",
       "      <td>0</td>\n",
       "      <td>0</td>\n",
       "      <td>0</td>\n",
       "      <td>0</td>\n",
       "      <td>0</td>\n",
       "    </tr>\n",
       "    <tr>\n",
       "      <th>8</th>\n",
       "      <td>1</td>\n",
       "      <td>Iphone 13 Pro Max</td>\n",
       "      <td>flagship</td>\n",
       "      <td>461</td>\n",
       "      <td>3</td>\n",
       "      <td>0</td>\n",
       "      <td>0</td>\n",
       "      <td>0</td>\n",
       "      <td>0</td>\n",
       "      <td>0</td>\n",
       "    </tr>\n",
       "    <tr>\n",
       "      <th>9</th>\n",
       "      <td>1</td>\n",
       "      <td>Iphone 13 Pro Max</td>\n",
       "      <td>flagship</td>\n",
       "      <td>574</td>\n",
       "      <td>2</td>\n",
       "      <td>0</td>\n",
       "      <td>0</td>\n",
       "      <td>0</td>\n",
       "      <td>0</td>\n",
       "      <td>0</td>\n",
       "    </tr>\n",
       "    <tr>\n",
       "      <th>10</th>\n",
       "      <td>1</td>\n",
       "      <td>Iphone 13 Pro Max</td>\n",
       "      <td>flagship</td>\n",
       "      <td>712</td>\n",
       "      <td>2</td>\n",
       "      <td>0</td>\n",
       "      <td>0</td>\n",
       "      <td>0</td>\n",
       "      <td>0</td>\n",
       "      <td>0</td>\n",
       "    </tr>\n",
       "    <tr>\n",
       "      <th>11</th>\n",
       "      <td>1</td>\n",
       "      <td>Iphone 13 Pro Max</td>\n",
       "      <td>flagship</td>\n",
       "      <td>844</td>\n",
       "      <td>1</td>\n",
       "      <td>0</td>\n",
       "      <td>0</td>\n",
       "      <td>0</td>\n",
       "      <td>0</td>\n",
       "      <td>0</td>\n",
       "    </tr>\n",
       "    <tr>\n",
       "      <th>12</th>\n",
       "      <td>1</td>\n",
       "      <td>Iphone 13 Pro Max</td>\n",
       "      <td>flagship</td>\n",
       "      <td>876</td>\n",
       "      <td>5</td>\n",
       "      <td>0</td>\n",
       "      <td>0</td>\n",
       "      <td>0</td>\n",
       "      <td>0</td>\n",
       "      <td>0</td>\n",
       "    </tr>\n",
       "    <tr>\n",
       "      <th>13</th>\n",
       "      <td>1</td>\n",
       "      <td>Iphone 13 Pro Max</td>\n",
       "      <td>flagship</td>\n",
       "      <td>883</td>\n",
       "      <td>3</td>\n",
       "      <td>0</td>\n",
       "      <td>0</td>\n",
       "      <td>0</td>\n",
       "      <td>0</td>\n",
       "      <td>0</td>\n",
       "    </tr>\n",
       "    <tr>\n",
       "      <th>14</th>\n",
       "      <td>2</td>\n",
       "      <td>Iphone 13 Pro</td>\n",
       "      <td>high_end</td>\n",
       "      <td>28</td>\n",
       "      <td>5</td>\n",
       "      <td>0</td>\n",
       "      <td>0</td>\n",
       "      <td>0</td>\n",
       "      <td>0</td>\n",
       "      <td>0</td>\n",
       "    </tr>\n",
       "    <tr>\n",
       "      <th>15</th>\n",
       "      <td>2</td>\n",
       "      <td>Iphone 13 Pro</td>\n",
       "      <td>high_end</td>\n",
       "      <td>65</td>\n",
       "      <td>3</td>\n",
       "      <td>0</td>\n",
       "      <td>0</td>\n",
       "      <td>0</td>\n",
       "      <td>0</td>\n",
       "      <td>0</td>\n",
       "    </tr>\n",
       "    <tr>\n",
       "      <th>16</th>\n",
       "      <td>2</td>\n",
       "      <td>Iphone 13 Pro</td>\n",
       "      <td>high_end</td>\n",
       "      <td>67</td>\n",
       "      <td>3</td>\n",
       "      <td>0</td>\n",
       "      <td>0</td>\n",
       "      <td>0</td>\n",
       "      <td>0</td>\n",
       "      <td>0</td>\n",
       "    </tr>\n",
       "    <tr>\n",
       "      <th>17</th>\n",
       "      <td>2</td>\n",
       "      <td>Iphone 13 Pro</td>\n",
       "      <td>high_end</td>\n",
       "      <td>236</td>\n",
       "      <td>3</td>\n",
       "      <td>0</td>\n",
       "      <td>0</td>\n",
       "      <td>0</td>\n",
       "      <td>0</td>\n",
       "      <td>0</td>\n",
       "    </tr>\n",
       "    <tr>\n",
       "      <th>18</th>\n",
       "      <td>2</td>\n",
       "      <td>Iphone 13 Pro</td>\n",
       "      <td>high_end</td>\n",
       "      <td>241</td>\n",
       "      <td>2</td>\n",
       "      <td>0</td>\n",
       "      <td>0</td>\n",
       "      <td>0</td>\n",
       "      <td>0</td>\n",
       "      <td>0</td>\n",
       "    </tr>\n",
       "    <tr>\n",
       "      <th>19</th>\n",
       "      <td>2</td>\n",
       "      <td>Iphone 13 Pro</td>\n",
       "      <td>high_end</td>\n",
       "      <td>244</td>\n",
       "      <td>1</td>\n",
       "      <td>0</td>\n",
       "      <td>0</td>\n",
       "      <td>0</td>\n",
       "      <td>0</td>\n",
       "      <td>0</td>\n",
       "    </tr>\n",
       "  </tbody>\n",
       "</table>\n",
       "</div>"
      ],
      "text/plain": [
       "    productId           products  category  userId  rating  flagship  \\\n",
       "0           1  Iphone 13 Pro Max  flagship      57       1         0   \n",
       "1           1  Iphone 13 Pro Max  flagship     252       5         0   \n",
       "2           1  Iphone 13 Pro Max  flagship     282       5         0   \n",
       "3           1  Iphone 13 Pro Max  flagship     300       2         0   \n",
       "4           1  Iphone 13 Pro Max  flagship     325       3         0   \n",
       "5           1  Iphone 13 Pro Max  flagship     409       4         0   \n",
       "6           1  Iphone 13 Pro Max  flagship     414       4         0   \n",
       "7           1  Iphone 13 Pro Max  flagship     455       4         0   \n",
       "8           1  Iphone 13 Pro Max  flagship     461       3         0   \n",
       "9           1  Iphone 13 Pro Max  flagship     574       2         0   \n",
       "10          1  Iphone 13 Pro Max  flagship     712       2         0   \n",
       "11          1  Iphone 13 Pro Max  flagship     844       1         0   \n",
       "12          1  Iphone 13 Pro Max  flagship     876       5         0   \n",
       "13          1  Iphone 13 Pro Max  flagship     883       3         0   \n",
       "14          2      Iphone 13 Pro  high_end      28       5         0   \n",
       "15          2      Iphone 13 Pro  high_end      65       3         0   \n",
       "16          2      Iphone 13 Pro  high_end      67       3         0   \n",
       "17          2      Iphone 13 Pro  high_end     236       3         0   \n",
       "18          2      Iphone 13 Pro  high_end     241       2         0   \n",
       "19          2      Iphone 13 Pro  high_end     244       1         0   \n",
       "\n",
       "    high_end  mid_range  low_end  mid_range   \n",
       "0          0          0        0           0  \n",
       "1          0          0        0           0  \n",
       "2          0          0        0           0  \n",
       "3          0          0        0           0  \n",
       "4          0          0        0           0  \n",
       "5          0          0        0           0  \n",
       "6          0          0        0           0  \n",
       "7          0          0        0           0  \n",
       "8          0          0        0           0  \n",
       "9          0          0        0           0  \n",
       "10         0          0        0           0  \n",
       "11         0          0        0           0  \n",
       "12         0          0        0           0  \n",
       "13         0          0        0           0  \n",
       "14         0          0        0           0  \n",
       "15         0          0        0           0  \n",
       "16         0          0        0           0  \n",
       "17         0          0        0           0  \n",
       "18         0          0        0           0  \n",
       "19         0          0        0           0  "
      ]
     },
     "execution_count": 254,
     "metadata": {},
     "output_type": "execute_result"
    }
   ],
   "source": [
    "# Data Processing\n",
    "# Converting CATEGORIES into different columns \n",
    "# Here we just create columns and put there initial value as 0\n",
    "x = data.category\n",
    "a = list()\n",
    "for i in x:\n",
    "    abc = i\n",
    "    a.append(abc.split('|'))\n",
    "a = pd.DataFrame(a)   \n",
    "b = a[0].unique()\n",
    "for i in b:\n",
    "    data[i] = 0\n",
    "data.head(20)"
   ]
  },
  {
   "cell_type": "code",
   "execution_count": 255,
   "id": "2c2ae6fe-4219-40ec-b7d0-0c19bfbbbffa",
   "metadata": {},
   "outputs": [],
   "source": [
    "# we assign 1 to all the columns which are present in \"category\"\n",
    "for i in b:\n",
    "    data.loc[data['category'].str.contains(i), i] = 1"
   ]
  },
  {
   "cell_type": "code",
   "execution_count": 256,
   "id": "596b39ff-65a1-4ffd-b9b6-d4bcea846b4a",
   "metadata": {},
   "outputs": [
    {
     "data": {
      "text/html": [
       "<div>\n",
       "<style scoped>\n",
       "    .dataframe tbody tr th:only-of-type {\n",
       "        vertical-align: middle;\n",
       "    }\n",
       "\n",
       "    .dataframe tbody tr th {\n",
       "        vertical-align: top;\n",
       "    }\n",
       "\n",
       "    .dataframe thead th {\n",
       "        text-align: right;\n",
       "    }\n",
       "</style>\n",
       "<table border=\"1\" class=\"dataframe\">\n",
       "  <thead>\n",
       "    <tr style=\"text-align: right;\">\n",
       "      <th></th>\n",
       "      <th>productId</th>\n",
       "      <th>products</th>\n",
       "      <th>category</th>\n",
       "      <th>userId</th>\n",
       "      <th>rating</th>\n",
       "      <th>flagship</th>\n",
       "      <th>high_end</th>\n",
       "      <th>mid_range</th>\n",
       "      <th>low_end</th>\n",
       "      <th>mid_range</th>\n",
       "    </tr>\n",
       "  </thead>\n",
       "  <tbody>\n",
       "    <tr>\n",
       "      <th>0</th>\n",
       "      <td>1</td>\n",
       "      <td>Iphone 13 Pro Max</td>\n",
       "      <td>flagship</td>\n",
       "      <td>57</td>\n",
       "      <td>1</td>\n",
       "      <td>1</td>\n",
       "      <td>0</td>\n",
       "      <td>0</td>\n",
       "      <td>0</td>\n",
       "      <td>0</td>\n",
       "    </tr>\n",
       "    <tr>\n",
       "      <th>1</th>\n",
       "      <td>1</td>\n",
       "      <td>Iphone 13 Pro Max</td>\n",
       "      <td>flagship</td>\n",
       "      <td>252</td>\n",
       "      <td>5</td>\n",
       "      <td>1</td>\n",
       "      <td>0</td>\n",
       "      <td>0</td>\n",
       "      <td>0</td>\n",
       "      <td>0</td>\n",
       "    </tr>\n",
       "  </tbody>\n",
       "</table>\n",
       "</div>"
      ],
      "text/plain": [
       "   productId           products  category  userId  rating  flagship  high_end  \\\n",
       "0          1  Iphone 13 Pro Max  flagship      57       1         1         0   \n",
       "1          1  Iphone 13 Pro Max  flagship     252       5         1         0   \n",
       "\n",
       "   mid_range  low_end  mid_range   \n",
       "0          0        0           0  \n",
       "1          0        0           0  "
      ]
     },
     "execution_count": 256,
     "metadata": {},
     "output_type": "execute_result"
    }
   ],
   "source": [
    "data.head(2)"
   ]
  },
  {
   "cell_type": "code",
   "execution_count": 257,
   "id": "29adff4b-6cde-40a1-a8c3-c3b72b44387d",
   "metadata": {},
   "outputs": [
    {
     "data": {
      "text/html": [
       "<div>\n",
       "<style scoped>\n",
       "    .dataframe tbody tr th:only-of-type {\n",
       "        vertical-align: middle;\n",
       "    }\n",
       "\n",
       "    .dataframe tbody tr th {\n",
       "        vertical-align: top;\n",
       "    }\n",
       "\n",
       "    .dataframe thead th {\n",
       "        text-align: right;\n",
       "    }\n",
       "</style>\n",
       "<table border=\"1\" class=\"dataframe\">\n",
       "  <thead>\n",
       "    <tr style=\"text-align: right;\">\n",
       "      <th></th>\n",
       "      <th>productId</th>\n",
       "      <th>userId</th>\n",
       "      <th>rating</th>\n",
       "      <th>flagship</th>\n",
       "      <th>high_end</th>\n",
       "      <th>mid_range</th>\n",
       "      <th>low_end</th>\n",
       "      <th>mid_range</th>\n",
       "    </tr>\n",
       "  </thead>\n",
       "  <tbody>\n",
       "    <tr>\n",
       "      <th>0</th>\n",
       "      <td>1</td>\n",
       "      <td>57</td>\n",
       "      <td>1</td>\n",
       "      <td>1</td>\n",
       "      <td>0</td>\n",
       "      <td>0</td>\n",
       "      <td>0</td>\n",
       "      <td>0</td>\n",
       "    </tr>\n",
       "    <tr>\n",
       "      <th>1</th>\n",
       "      <td>1</td>\n",
       "      <td>252</td>\n",
       "      <td>5</td>\n",
       "      <td>1</td>\n",
       "      <td>0</td>\n",
       "      <td>0</td>\n",
       "      <td>0</td>\n",
       "      <td>0</td>\n",
       "    </tr>\n",
       "    <tr>\n",
       "      <th>2</th>\n",
       "      <td>1</td>\n",
       "      <td>282</td>\n",
       "      <td>5</td>\n",
       "      <td>1</td>\n",
       "      <td>0</td>\n",
       "      <td>0</td>\n",
       "      <td>0</td>\n",
       "      <td>0</td>\n",
       "    </tr>\n",
       "    <tr>\n",
       "      <th>3</th>\n",
       "      <td>1</td>\n",
       "      <td>300</td>\n",
       "      <td>2</td>\n",
       "      <td>1</td>\n",
       "      <td>0</td>\n",
       "      <td>0</td>\n",
       "      <td>0</td>\n",
       "      <td>0</td>\n",
       "    </tr>\n",
       "    <tr>\n",
       "      <th>4</th>\n",
       "      <td>1</td>\n",
       "      <td>325</td>\n",
       "      <td>3</td>\n",
       "      <td>1</td>\n",
       "      <td>0</td>\n",
       "      <td>0</td>\n",
       "      <td>0</td>\n",
       "      <td>0</td>\n",
       "    </tr>\n",
       "  </tbody>\n",
       "</table>\n",
       "</div>"
      ],
      "text/plain": [
       "   productId  userId  rating  flagship  high_end  mid_range  low_end  \\\n",
       "0          1      57       1         1         0          0        0   \n",
       "1          1     252       5         1         0          0        0   \n",
       "2          1     282       5         1         0          0        0   \n",
       "3          1     300       2         1         0          0        0   \n",
       "4          1     325       3         1         0          0        0   \n",
       "\n",
       "   mid_range   \n",
       "0           0  \n",
       "1           0  \n",
       "2           0  \n",
       "3           0  \n",
       "4           0  "
      ]
     },
     "execution_count": 257,
     "metadata": {},
     "output_type": "execute_result"
    }
   ],
   "source": [
    "# Now there is no use of category\n",
    "# Since we have product id so there is no need for product names as well\n",
    "data = data.drop(['products','category'],axis =1)   \n",
    "data.head()"
   ]
  },
  {
   "cell_type": "code",
   "execution_count": 258,
   "id": "9c012b38-2021-446e-893e-70004fd98f44",
   "metadata": {},
   "outputs": [
    {
     "data": {
      "text/plain": [
       "Index(['productId', 'userId', 'rating', 'flagship', 'high_end', 'mid_range',\n",
       "       'low_end', 'mid_range '],\n",
       "      dtype='object')"
      ]
     },
     "execution_count": 258,
     "metadata": {},
     "output_type": "execute_result"
    }
   ],
   "source": [
    "data.columns"
   ]
  },
  {
   "cell_type": "code",
   "execution_count": 259,
   "id": "d34d9990-fc4e-43e6-8997-735374a6b867",
   "metadata": {},
   "outputs": [
    {
     "data": {
      "text/plain": [
       "productId     0\n",
       "userId        0\n",
       "rating        0\n",
       "flagship      0\n",
       "high_end      0\n",
       "mid_range     0\n",
       "low_end       0\n",
       "mid_range     0\n",
       "dtype: int64"
      ]
     },
     "execution_count": 259,
     "metadata": {},
     "output_type": "execute_result"
    }
   ],
   "source": [
    "# Because of merging some null values are created\n",
    "data.isnull().sum()"
   ]
  },
  {
   "cell_type": "code",
   "execution_count": 260,
   "id": "15ffd822-a8d9-4c50-8fdc-29bb435e4471",
   "metadata": {},
   "outputs": [],
   "source": [
    "#We simply drop the null values coz the are not treatable\n",
    "data.dropna(inplace= True )"
   ]
  },
  {
   "cell_type": "code",
   "execution_count": 261,
   "id": "4eb860a2-7463-48c4-8a79-bd63f6cda82f",
   "metadata": {},
   "outputs": [
    {
     "data": {
      "text/plain": [
       "productId     0\n",
       "userId        0\n",
       "rating        0\n",
       "flagship      0\n",
       "high_end      0\n",
       "mid_range     0\n",
       "low_end       0\n",
       "mid_range     0\n",
       "dtype: int64"
      ]
     },
     "execution_count": 261,
     "metadata": {},
     "output_type": "execute_result"
    }
   ],
   "source": [
    "data.isnull().sum()"
   ]
  },
  {
   "cell_type": "code",
   "execution_count": 262,
   "id": "38d9dfc0-aed5-42a4-96a9-0615731e2c79",
   "metadata": {},
   "outputs": [
    {
     "data": {
      "text/plain": [
       "KMeans()"
      ]
     },
     "execution_count": 262,
     "metadata": {},
     "output_type": "execute_result"
    }
   ],
   "source": [
    "#By different meathods we found 8 clusters are better \n",
    "kmeanModel = KMeans(n_clusters=8)\n",
    "kmeanModel.fit(data)"
   ]
  },
  {
   "cell_type": "code",
   "execution_count": 263,
   "id": "3491ac87-423a-4797-811c-ef789111a519",
   "metadata": {},
   "outputs": [
    {
     "data": {
      "text/plain": [
       "241    0\n",
       "398    2\n",
       "998    6\n",
       "312    5\n",
       "282    3\n",
       "949    1\n",
       "793    2\n",
       "911    6\n",
       "1      1\n",
       "478    2\n",
       "Name: Cluster, dtype: int32"
      ]
     },
     "execution_count": 263,
     "metadata": {},
     "output_type": "execute_result"
    }
   ],
   "source": [
    "#Creating an extra column in data for storing the cluster values\n",
    "data['Cluster'] = kmeanModel.labels_\n",
    "data['Cluster'].sample(n=10)"
   ]
  },
  {
   "cell_type": "code",
   "execution_count": 264,
   "id": "e1ace67c-ee02-4cd7-90d3-86f1afa960a2",
   "metadata": {},
   "outputs": [
    {
     "data": {
      "text/plain": [
       "2    127\n",
       "1    126\n",
       "5    126\n",
       "3    126\n",
       "6    125\n",
       "0    124\n",
       "7    124\n",
       "4    122\n",
       "Name: Cluster, dtype: int64"
      ]
     },
     "execution_count": 264,
     "metadata": {},
     "output_type": "execute_result"
    }
   ],
   "source": [
    "data['Cluster'].value_counts()"
   ]
  },
  {
   "cell_type": "code",
   "execution_count": 265,
   "id": "826a71a5-5377-40ad-beff-9da7163d54a0",
   "metadata": {},
   "outputs": [
    {
     "data": {
      "text/html": [
       "<div>\n",
       "<style scoped>\n",
       "    .dataframe tbody tr th:only-of-type {\n",
       "        vertical-align: middle;\n",
       "    }\n",
       "\n",
       "    .dataframe tbody tr th {\n",
       "        vertical-align: top;\n",
       "    }\n",
       "\n",
       "    .dataframe thead th {\n",
       "        text-align: right;\n",
       "    }\n",
       "</style>\n",
       "<table border=\"1\" class=\"dataframe\">\n",
       "  <thead>\n",
       "    <tr style=\"text-align: right;\">\n",
       "      <th></th>\n",
       "      <th>productId</th>\n",
       "      <th>userId</th>\n",
       "      <th>rating</th>\n",
       "      <th>flagship</th>\n",
       "      <th>high_end</th>\n",
       "      <th>mid_range</th>\n",
       "      <th>low_end</th>\n",
       "      <th>mid_range</th>\n",
       "      <th>Cluster</th>\n",
       "    </tr>\n",
       "  </thead>\n",
       "  <tbody>\n",
       "    <tr>\n",
       "      <th>0</th>\n",
       "      <td>1</td>\n",
       "      <td>57</td>\n",
       "      <td>1</td>\n",
       "      <td>1</td>\n",
       "      <td>0</td>\n",
       "      <td>0</td>\n",
       "      <td>0</td>\n",
       "      <td>0</td>\n",
       "      <td>4</td>\n",
       "    </tr>\n",
       "    <tr>\n",
       "      <th>1</th>\n",
       "      <td>1</td>\n",
       "      <td>252</td>\n",
       "      <td>5</td>\n",
       "      <td>1</td>\n",
       "      <td>0</td>\n",
       "      <td>0</td>\n",
       "      <td>0</td>\n",
       "      <td>0</td>\n",
       "      <td>1</td>\n",
       "    </tr>\n",
       "    <tr>\n",
       "      <th>2</th>\n",
       "      <td>1</td>\n",
       "      <td>282</td>\n",
       "      <td>5</td>\n",
       "      <td>1</td>\n",
       "      <td>0</td>\n",
       "      <td>0</td>\n",
       "      <td>0</td>\n",
       "      <td>0</td>\n",
       "      <td>1</td>\n",
       "    </tr>\n",
       "    <tr>\n",
       "      <th>3</th>\n",
       "      <td>1</td>\n",
       "      <td>300</td>\n",
       "      <td>2</td>\n",
       "      <td>1</td>\n",
       "      <td>0</td>\n",
       "      <td>0</td>\n",
       "      <td>0</td>\n",
       "      <td>0</td>\n",
       "      <td>1</td>\n",
       "    </tr>\n",
       "    <tr>\n",
       "      <th>4</th>\n",
       "      <td>1</td>\n",
       "      <td>325</td>\n",
       "      <td>3</td>\n",
       "      <td>1</td>\n",
       "      <td>0</td>\n",
       "      <td>0</td>\n",
       "      <td>0</td>\n",
       "      <td>0</td>\n",
       "      <td>1</td>\n",
       "    </tr>\n",
       "  </tbody>\n",
       "</table>\n",
       "</div>"
      ],
      "text/plain": [
       "   productId  userId  rating  flagship  high_end  mid_range  low_end  \\\n",
       "0          1      57       1         1         0          0        0   \n",
       "1          1     252       5         1         0          0        0   \n",
       "2          1     282       5         1         0          0        0   \n",
       "3          1     300       2         1         0          0        0   \n",
       "4          1     325       3         1         0          0        0   \n",
       "\n",
       "   mid_range   Cluster  \n",
       "0           0        4  \n",
       "1           0        1  \n",
       "2           0        1  \n",
       "3           0        1  \n",
       "4           0        1  "
      ]
     },
     "execution_count": 265,
     "metadata": {},
     "output_type": "execute_result"
    }
   ],
   "source": [
    "data.head()"
   ]
  },
  {
   "cell_type": "code",
   "execution_count": 266,
   "id": "cfaa7ecf-ed70-4fb7-a003-381361527b7d",
   "metadata": {},
   "outputs": [],
   "source": [
    "#When we merge the dataframe for a single \"product\", multiple rows were created so a single product is allotted\n",
    "# to many clusters, so here we allot a single cluster to a product. \n",
    "#The Cluster which occurs maximum number of times is alloted to the product.\n",
    "e = []\n",
    "def fi(group):\n",
    "    a = pd.DataFrame(group)\n",
    "    b = pd.DataFrame(a['Cluster'].value_counts())\n",
    "    d = a.index \n",
    "    c = [a['productId'][d[0]],int(b.idxmax())]\n",
    "    e.append(c)\n",
    "    "
   ]
  },
  {
   "cell_type": "code",
   "execution_count": 267,
   "id": "2d661010-36a5-4348-a396-359a0bbcaa28",
   "metadata": {},
   "outputs": [
    {
     "data": {
      "text/html": [
       "<div>\n",
       "<style scoped>\n",
       "    .dataframe tbody tr th:only-of-type {\n",
       "        vertical-align: middle;\n",
       "    }\n",
       "\n",
       "    .dataframe tbody tr th {\n",
       "        vertical-align: top;\n",
       "    }\n",
       "\n",
       "    .dataframe thead th {\n",
       "        text-align: right;\n",
       "    }\n",
       "</style>\n",
       "<table border=\"1\" class=\"dataframe\">\n",
       "  <thead>\n",
       "    <tr style=\"text-align: right;\">\n",
       "      <th></th>\n",
       "    </tr>\n",
       "  </thead>\n",
       "  <tbody>\n",
       "  </tbody>\n",
       "</table>\n",
       "</div>"
      ],
      "text/plain": [
       "Empty DataFrame\n",
       "Columns: []\n",
       "Index: []"
      ]
     },
     "execution_count": 267,
     "metadata": {},
     "output_type": "execute_result"
    }
   ],
   "source": [
    "data.groupby(\"productId\").apply(lambda x: fi(x))"
   ]
  },
  {
   "cell_type": "code",
   "execution_count": 268,
   "id": "e3e23256-a0e6-4205-89f1-81e519a09367",
   "metadata": {},
   "outputs": [],
   "source": [
    "e = pd.DataFrame(e)"
   ]
  },
  {
   "cell_type": "code",
   "execution_count": 269,
   "id": "b6083437-5918-4e61-b54d-369b2b824eca",
   "metadata": {},
   "outputs": [],
   "source": [
    "#We Dont know why always the column name shift according to its will\n",
    "#Here just the column names are swapped\n",
    "e.rename(columns = {0:'productId',1:'Cluster'},inplace=True)\n",
    "e.drop_duplicates(inplace=True)"
   ]
  },
  {
   "cell_type": "code",
   "execution_count": 270,
   "id": "2e723a5e-b7f6-4cc6-b7bc-bcaa7b491a2c",
   "metadata": {},
   "outputs": [],
   "source": [
    "data1 = pd.read_csv('products.csv')\n",
    "new_data = pd.merge(e , data1 , how='outer', on='productId')"
   ]
  },
  {
   "cell_type": "code",
   "execution_count": 271,
   "id": "ae7ac4cc-0995-4123-b4d8-3b6365740082",
   "metadata": {},
   "outputs": [
    {
     "data": {
      "text/plain": [
       "productId    0\n",
       "Cluster      0\n",
       "products     0\n",
       "category     0\n",
       "dtype: int64"
      ]
     },
     "execution_count": 271,
     "metadata": {},
     "output_type": "execute_result"
    }
   ],
   "source": [
    "#These were the products we deleted while merging the file  \n",
    "new_data.isnull().sum()"
   ]
  },
  {
   "cell_type": "code",
   "execution_count": 272,
   "id": "efccae09-bc4d-4684-a460-85b6f20cdadf",
   "metadata": {},
   "outputs": [],
   "source": [
    "#We can delete the  products but I just label them randomly :)\n",
    "new_data.fillna(random.randint(0,8),inplace=True)"
   ]
  },
  {
   "cell_type": "code",
   "execution_count": 273,
   "id": "e15d8586-0de0-40a4-941c-9e16cfb6b4b0",
   "metadata": {},
   "outputs": [
    {
     "data": {
      "text/plain": [
       "productId    0\n",
       "Cluster      0\n",
       "products     0\n",
       "category     0\n",
       "dtype: int64"
      ]
     },
     "execution_count": 273,
     "metadata": {},
     "output_type": "execute_result"
    }
   ],
   "source": [
    "new_data.isnull().sum()"
   ]
  },
  {
   "cell_type": "code",
   "execution_count": 286,
   "id": "82990766-3243-4625-9ad9-75116d56bff5",
   "metadata": {},
   "outputs": [],
   "source": [
    "#This function select the cluster for a user according the the user choice\n",
    "def select_c():\n",
    "    global l\n",
    "    print('Select The Product ID you would like to see:')\n",
    "    l=[]\n",
    "    for i in range(15):\n",
    "        l.append(random.randint(0,59))\n",
    "    for i in l:\n",
    "        print(new_data['productId'][i] , new_data['products'][i],sep='--->')\n",
    "    print('--------------------------------------------------------------------')\n",
    "    l = int(input())\n",
    "    l = new_data['Cluster'][new_data.productId == l]"
   ]
  },
  {
   "cell_type": "code",
   "execution_count": 287,
   "id": "7b4bb8d2-1a6d-4084-a3a0-7b20c80242ff",
   "metadata": {},
   "outputs": [],
   "source": [
    "# This is the main function which recommend you products\n",
    "def main():\n",
    "    ans = False\n",
    "    while not ans:\n",
    "        select_c()\n",
    "        print(new_data['products'][new_data.Cluster == int(l)].sample(n=10))  #l #L\n",
    "        print('--------------------------------------------------------------------')\n",
    "        print('Do you like these products(y/n)')\n",
    "        abc = input()\n",
    "        while ((abc =='y') or (abc == 'Y')):          \n",
    "            print(new_data['products'][new_data.Cluster == int(l)].sample(n=10)) #l #L\n",
    "            print('--------------------------------------------------------------------')\n",
    "            print('Do you want more(y/n)')\n",
    "            abc = input()\n",
    "            if ((abc =='N') or (abc == 'n')):\n",
    "                ans =True\n"
   ]
  },
  {
   "cell_type": "code",
   "execution_count": 288,
   "id": "5017b4ef-33c8-4282-901c-46bfe597663b",
   "metadata": {},
   "outputs": [
    {
     "name": "stdout",
     "output_type": "stream",
     "text": [
      "Select The Product ID you would like to see:\n",
      "2--->Iphone 13 Pro\n",
      "52--->Realme GT Neo 2\n",
      "19--->Samsung Galaxy S20 Fe\n",
      "59--->Realme Gt Neo 3\n",
      "33--->Xiaomi 12X\n",
      "54--->Relame GT\n",
      "7--->Iphone 12\n",
      "22--->Huawei P50\n",
      "52--->Realme GT Neo 2\n",
      "18--->Samsung Galaxy S20 Plus\n",
      "3--->Iphone 13\n",
      "59--->Realme Gt Neo 3\n",
      "6--->Iphone 12 Pro\n",
      "55--->Realme 9 Pro Plus\n",
      "6--->Iphone 12 Pro\n",
      "--------------------------------------------------------------------\n"
     ]
    },
    {
     "name": "stdout",
     "output_type": "stream",
     "text": [
      " 1\n"
     ]
    },
    {
     "name": "stdout",
     "output_type": "stream",
     "text": [
      "31                  Xiaomi 12\n",
      "51            Realme GT Neo 2\n",
      "37    Xiaomi Redmi Note 9 Pro\n",
      "26             Huawei P30 Pro\n",
      "17    Samsung Galaxy S20 Plus\n",
      "0           Iphone 13 Pro Max\n",
      "27                 Huawei P30\n",
      "52                Realme GT 2\n",
      "21                 Huawei P50\n",
      "23             Huawei P40 Pro\n",
      "Name: products, dtype: object\n",
      "--------------------------------------------------------------------\n",
      "Do you like these products(y/n)\n"
     ]
    },
    {
     "name": "stdout",
     "output_type": "stream",
     "text": [
      " 2\n"
     ]
    },
    {
     "name": "stdout",
     "output_type": "stream",
     "text": [
      "Select The Product ID you would like to see:\n",
      "31--->Xiaomi 12 Pro\n",
      "39--->Xiaomi Poco F3\n",
      "17--->Samsung Galaxy S20 Ultra\n",
      "48--->One Plus 8 Pro\n",
      "29--->Huawei Nova 9\n",
      "56--->Realme 9 Pro\n",
      "19--->Samsung Galaxy S20 Fe\n",
      "59--->Realme Gt Neo 3\n",
      "21--->Huawei P50 Pro\n",
      "8--->Iphone 12 Mini\n",
      "14--->Samsung Galaxy S21 Ultra\n",
      "12--->Samsung Galaxy S22 Plus\n",
      "28--->Huawei P30\n",
      "41--->Google Pixel 6 Pro\n",
      "24--->Huawei P40 Pro\n",
      "--------------------------------------------------------------------\n"
     ]
    },
    {
     "name": "stdout",
     "output_type": "stream",
     "text": [
      " 3\n"
     ]
    },
    {
     "name": "stdout",
     "output_type": "stream",
     "text": [
      "46              One Plus 9 Pro\n",
      "38              Xiaomi Poco F3\n",
      "2                    Iphone 13\n",
      "18       Samsung Galaxy S20 Fe\n",
      "49                 One Plus 8T\n",
      "3               Iphone 13 Mini\n",
      "22           Huawei P50 Pocket\n",
      "39          Xiaomi Poco M4 Pro\n",
      "13    Samsung Galaxy S21 Ultra\n",
      "41             Google Pixel 6a\n",
      "Name: products, dtype: object\n",
      "--------------------------------------------------------------------\n",
      "Do you like these products(y/n)\n"
     ]
    },
    {
     "name": "stdout",
     "output_type": "stream",
     "text": [
      " y\n"
     ]
    },
    {
     "name": "stdout",
     "output_type": "stream",
     "text": [
      "3               Iphone 13 Mini\n",
      "38              Xiaomi Poco F3\n",
      "2                    Iphone 13\n",
      "13    Samsung Galaxy S21 Ultra\n",
      "18       Samsung Galaxy S20 Fe\n",
      "39          Xiaomi Poco M4 Pro\n",
      "49                 One Plus 8T\n",
      "22           Huawei P50 Pocket\n",
      "46              One Plus 9 Pro\n",
      "41             Google Pixel 6a\n",
      "Name: products, dtype: object\n",
      "--------------------------------------------------------------------\n",
      "Do you want more(y/n)\n"
     ]
    },
    {
     "name": "stdout",
     "output_type": "stream",
     "text": [
      " y\n"
     ]
    },
    {
     "name": "stdout",
     "output_type": "stream",
     "text": [
      "49                 One Plus 8T\n",
      "2                    Iphone 13\n",
      "38              Xiaomi Poco F3\n",
      "41             Google Pixel 6a\n",
      "13    Samsung Galaxy S21 Ultra\n",
      "3               Iphone 13 Mini\n",
      "46              One Plus 9 Pro\n",
      "39          Xiaomi Poco M4 Pro\n",
      "22           Huawei P50 Pocket\n",
      "18       Samsung Galaxy S20 Fe\n",
      "Name: products, dtype: object\n",
      "--------------------------------------------------------------------\n",
      "Do you want more(y/n)\n"
     ]
    },
    {
     "name": "stdout",
     "output_type": "stream",
     "text": [
      " y\n"
     ]
    },
    {
     "name": "stdout",
     "output_type": "stream",
     "text": [
      "38              Xiaomi Poco F3\n",
      "39          Xiaomi Poco M4 Pro\n",
      "2                    Iphone 13\n",
      "46              One Plus 9 Pro\n",
      "41             Google Pixel 6a\n",
      "22           Huawei P50 Pocket\n",
      "49                 One Plus 8T\n",
      "13    Samsung Galaxy S21 Ultra\n",
      "3               Iphone 13 Mini\n",
      "18       Samsung Galaxy S20 Fe\n",
      "Name: products, dtype: object\n",
      "--------------------------------------------------------------------\n",
      "Do you want more(y/n)\n"
     ]
    },
    {
     "name": "stdout",
     "output_type": "stream",
     "text": [
      " n\n"
     ]
    }
   ],
   "source": [
    "main()"
   ]
  },
  {
   "cell_type": "code",
   "execution_count": null,
   "id": "32858859-10db-465a-9e0f-d461d891e404",
   "metadata": {},
   "outputs": [],
   "source": []
  },
  {
   "cell_type": "code",
   "execution_count": null,
   "id": "cfc4dfe7-ad07-4c85-830b-e3c8d67882de",
   "metadata": {},
   "outputs": [],
   "source": []
  }
 ],
 "metadata": {
  "kernelspec": {
   "display_name": "Python 3 (ipykernel)",
   "language": "python",
   "name": "python3"
  },
  "language_info": {
   "codemirror_mode": {
    "name": "ipython",
    "version": 3
   },
   "file_extension": ".py",
   "mimetype": "text/x-python",
   "name": "python",
   "nbconvert_exporter": "python",
   "pygments_lexer": "ipython3",
   "version": "3.9.7"
  }
 },
 "nbformat": 4,
 "nbformat_minor": 5
}
